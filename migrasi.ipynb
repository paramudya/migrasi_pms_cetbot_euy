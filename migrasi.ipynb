{
 "cells": [
  {
   "cell_type": "code",
   "execution_count": 1,
   "metadata": {},
   "outputs": [
    {
     "name": "stdout",
     "output_type": "stream",
     "text": [
      "list of datesss '2024-01-31', '2024-02-29', '2024-03-31', '2024-04-30', '2024-05-31', '2024-06-30', '2024-07-31', '2024-08-31', '2024-09-30', '2024-10-31', '2024-11-30', '2024-12-07' \n",
      "\n",
      "\n",
      "\n",
      "\n",
      "\n"
     ]
    }
   ],
   "source": [
    "from step1_migrasi import step1"
   ]
  },
  {
   "cell_type": "code",
   "execution_count": 2,
   "metadata": {},
   "outputs": [
    {
     "name": "stdout",
     "output_type": "stream",
     "text": [
      "a\n",
      "prefix query terpilih: \n",
      "            You are an executable sqlite query generator.\n",
      "            Think step-by-step, then write a sqlite query that answers (and optionally) elaborates on a user's question; only after all your thoughts and planning for the query have been written. No need for further explanation after a query is written.\n",
      "            When doing ranking/comparison/top, exclude NULL, empty string, and 'NULL' in the group by columns.\n",
      "            Always include period (date) column whenever relevant, when talking about periodic (month/year), always use the last date of that month / year as reference.\n",
      "            Always SUM() columns that contain numerical value because there's no smallest granularity in the data.\n",
      "            table name: pms_daily\n",
      "\n",
      "            write your query according to the data sample below:\n",
      "            sample:\n",
      "                 as_of_date region_code                  region_name branch_code  \\\n",
      "362  2023-12-31          11         W11 - WILAYAH MANADO        2110   \n",
      "205  2023-12-31          10    W10 - WILAYAH JKT SENAYAN          22   \n",
      "706  2023-12-31          15  W15 - WILAYAH JKT KEMAYORAN         243   \n",
      "492  2023-12-31          12       W12 - WILAYAH JKT KOTA        3400   \n",
      "711  2023-12-31          15  W15 - WILAYAH JKT KEMAYORAN         309   \n",
      "\n",
      "          branch_name segment_div_owner           dpk  fee_based_income  \\\n",
      "362        SKM MANADO              CMB1           NaN      0.000000e+00   \n",
      "205      MELAWAI RAYA               CRS  1.688799e+12      5.961425e+10   \n",
      "706        RAWAMANGUN              None           NaN      0.000000e+00   \n",
      "492  SKC JAKARTA KOTA               SBP  6.724447e+07      1.240079e+06   \n",
      "711     KELAPA GADING               ENB           NaN      0.000000e+00   \n",
      "\n",
      "       ftp_charge    ftp_credit  interest_expense  interest_income  \\\n",
      "362  0.000000e+00  9.332482e+06      0.000000e+00     0.000000e+00   \n",
      "205 -3.845618e+10  5.827875e+10      1.156458e+10     8.273411e+10   \n",
      "706  0.000000e+00  0.000000e+00      0.000000e+00     0.000000e+00   \n",
      "492 -1.070212e+06  3.495823e+06      1.338100e+05     0.000000e+00   \n",
      "711  0.000000e+00  0.000000e+00      0.000000e+00     0.000000e+00   \n",
      "\n",
      "          indopex          loan  opex           pbt          ppop  \\\n",
      "362  0.000000e+00           NaN   0.0  0.000000e+00  9.332482e+06   \n",
      "205  0.000000e+00  1.048983e+12   0.0  2.849776e+10  1.506063e+11   \n",
      "706 -3.654468e+10           NaN   0.0  0.000000e+00 -2.900324e+10   \n",
      "492  0.000000e+00  0.000000e+00   0.0  0.000000e+00  3.531880e+06   \n",
      "711  0.000000e+00           NaN   0.0  0.000000e+00  0.000000e+00   \n",
      "\n",
      "    ppop_bniwide     provision      recovery  \n",
      "362         None  9.332482e+06           NaN  \n",
      "205         None  1.221086e+11  2.774719e+09  \n",
      "706         None -2.900324e+10  4.274900e+04  \n",
      "492         None  3.531880e+06  4.350000e+06  \n",
      "711         None  0.000000e+00           NaN  \n",
      "\n",
      "            ONLY write query using columns on the sample table.\n",
      "        \n",
      "Let's think step by step.\\n\\n1. We need to count the total number of unique branches recorded in the dataset.\\n2. The relevant column for identifying branches is `branch_code` or `branch_name`.\\n3. We should ensure that we exclude any NULL or empty values in the `branch_code` or `branch_name` column.\\n4. We will use the `DISTINCT` keyword to count unique branches.\\n\\nNow, let's write the SQL query:\\n\\n```sql\\nSELECT COUNT(DISTINCT branch_code) AS total_branches\\nFROM pms_daily\\nWHERE branch_code IS NOT NULL AND branch_code != '';\\n```\n",
      "   total_branches\n",
      "0             585\n"
     ]
    }
   ],
   "source": [
    "### init class\n",
    "pms_gen = step1(verbose = 1)\n",
    "\n",
    "### user input\n",
    "q = \"ada berapa total cabang tercatat\"\n",
    "\n",
    "### get query\n",
    "for res in pms_gen.stream_query_gen(q):\n",
    "    # print(res) # comment to turn off\n",
    "    pass\n",
    "# pms_gen.stream_query_gen() # if no stream needed\n",
    "\n",
    "### run query (sqlite for now)\n",
    "pms_gen.exec_q()\n",
    "\n",
    "### check results\n",
    "query, table = pms_gen.query, pms_gen.df\n"
   ]
  },
  {
   "cell_type": "code",
   "execution_count": null,
   "metadata": {},
   "outputs": [],
   "source": []
  }
 ],
 "metadata": {
  "kernelspec": {
   "display_name": ".venv",
   "language": "python",
   "name": "python3"
  },
  "language_info": {
   "codemirror_mode": {
    "name": "ipython",
    "version": 3
   },
   "file_extension": ".py",
   "mimetype": "text/x-python",
   "name": "python",
   "nbconvert_exporter": "python",
   "pygments_lexer": "ipython3",
   "version": "3.9.13"
  }
 },
 "nbformat": 4,
 "nbformat_minor": 2
}
